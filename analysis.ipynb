{
 "metadata": {
  "name": "",
  "signature": "sha256:3b568592db799d1edcd87cbc15527ec77892ad8b91615d1328fd028ac1daba01"
 },
 "nbformat": 3,
 "nbformat_minor": 0,
 "worksheets": [
  {
   "cells": [
    {
     "cell_type": "code",
     "collapsed": false,
     "input": [
      "%matplotlib inline\n",
      "\n",
      "from __future__ import division \n",
      "\n",
      "import re\n",
      "import numpy as np\n",
      "import matplotlib.pyplot as plt\n",
      "\n",
      "from scipy.cluster.vq import kmeans,vq\n",
      "from scipy.spatial.distance import cdist\n",
      "\n",
      "from sklearn.cluster import KMeans \n",
      "from sklearn.cluster import DBSCAN\n",
      "from sklearn.feature_extraction.text import TfidfVectorizer \n",
      "from sklearn.decomposition import TruncatedSVD\n",
      "from sklearn.pipeline import make_pipeline\n",
      "from sklearn.preprocessing import Normalizer\n",
      "from sklearn import metrics \n",
      "\n",
      "from nltk.stem.wordnet import WordNetLemmatizer\n",
      "from nltk.tokenize import word_tokenize \n",
      "lmtzr = WordNetLemmatizer()\n",
      "\n",
      "import mpld3\n",
      "from mpld3 import plugins \n",
      "\n",
      "from pprint import pprint as pp\n",
      "from dateutil.parser import parse \n",
      "import random \n",
      "\n",
      "def elbow_method(X):\n",
      "    K = range(1,10)\n",
      "    KM = [kmeans(X,k) for k in K] # apply kmeans 1 to 10\n",
      "    centroids = [cent for (cent,var) in KM] \n",
      "    D_k = [cdist(X, cent, 'euclidean') for cent in centroids]\n",
      "\n",
      "    cIdx = [np.argmin(D,axis=1) for D in D_k]\n",
      "    dist = [np.min(D,axis=1) for D in D_k]\n",
      "    avgWithinSS = [sum(d)/X.shape[0] for d in dist]  \n",
      "    kIdx = 2\n",
      "    # plot elbow curve\n",
      "    fig = plt.figure()\n",
      "    ax = fig.add_subplot(111)\n",
      "    ax.plot(K, avgWithinSS, 'b*-')\n",
      "    ax.plot(K[kIdx], avgWithinSS[kIdx], marker='o', markersize=12, \n",
      "          markeredgewidth=2, markeredgecolor='r', markerfacecolor='None')\n",
      "    plt.grid(True)\n",
      "    plt.xlabel('Number of clusters')\n",
      "    plt.ylabel('Average within-cluster sum of squares')\n",
      "    tt = plt.title('Elbow for K-Means clustering')  \n"
     ],
     "language": "python",
     "metadata": {},
     "outputs": [],
     "prompt_number": 38
    },
    {
     "cell_type": "code",
     "collapsed": false,
     "input": [
      "listings = np.array([listing for listing in Listing.objects.all()])\n",
      "raw_text = np.array([listing.message for listing in listings])\n",
      "text = np.array([re.sub(r'^https?:\\/\\/.*[\\r\\n]*', '', message, flags=re.MULTILINE) for message in raw_text])"
     ],
     "language": "python",
     "metadata": {},
     "outputs": [],
     "prompt_number": 39
    },
    {
     "cell_type": "code",
     "collapsed": false,
     "input": [
      "original_preprocessor = TfidfVectorizer().build_preprocessor()\n",
      "preprocessor = lambda x: lmtzr.lemmatize(original_preprocessor(x))\n",
      "vectorizer = TfidfVectorizer(min_df=0.01, ngram_range=(1,2), stop_words='english', preprocessor=preprocessor)\n",
      "X = vectorizer.fit_transform(text).toarray()"
     ],
     "language": "python",
     "metadata": {},
     "outputs": [],
     "prompt_number": 40
    },
    {
     "cell_type": "code",
     "collapsed": false,
     "input": [
      "elbow_method(X)"
     ],
     "language": "python",
     "metadata": {},
     "outputs": [
      {
       "metadata": {},
       "output_type": "display_data",
       "png": "[encoded data removed]",
       "text": [
        "<matplotlib.figure.Figure at 0x109b2c350>"
       ]
      }
     ],
     "prompt_number": 44
    },
    {
     "cell_type": "code",
     "collapsed": false,
     "input": [
      "N_CLUSTERS = 3\n",
      "k_means = KMeans(n_clusters=N_CLUSTERS, init='k-means++', max_iter=100, n_init=1, verbose=True)\n",
      "# svd = TruncatedSVD(2) \n",
      "# lsa = make_pipeline(svd, Normalizer(copy=False)) \n",
      "k_means.fit(X)\n",
      "k_means_labels = k_means.labels_\n",
      "k_means_cluster_centers = k_means.cluster_centers_\n",
      "k_means_labels_unique = np.unique(k_means_labels)\n",
      "terms = vectorizer.get_feature_names()"
     ],
     "language": "python",
     "metadata": {},
     "outputs": [
      {
       "output_type": "stream",
       "stream": "stdout",
       "text": [
        "Initialization complete\n",
        "Iteration  0, inertia 10658.841\n",
        "Iteration  1, inertia 5636.112\n",
        "Iteration  2, inertia 5616.187\n",
        "Iteration  3, inertia 5608.056\n",
        "Iteration  4, inertia 5607.061\n",
        "Iteration  5, inertia 5607.020"
       ]
      },
      {
       "output_type": "stream",
       "stream": "stdout",
       "text": [
        "\n",
        "Iteration  6, inertia 5607.010\n",
        "Iteration  7, inertia 5607.007\n",
        "Converged at iteration 7\n"
       ]
      }
     ],
     "prompt_number": 42
    },
    {
     "cell_type": "code",
     "collapsed": false,
     "input": [
      "order_centroids = k_means_cluster_centers.argsort()[:, ::-1]\n",
      "for i in range(N_CLUSTERS):\n",
      "    # print [(terms[ind], k_means_cluster_centers[i][ind]) for ind in order_centroids[i, :100]]\n",
      "    print [terms[ind] for ind in order_centroids[i, :100]]\n",
      "    print \"\"\n"
     ],
     "language": "python",
     "metadata": {},
     "outputs": [
      {
       "output_type": "stream",
       "stream": "stdout",
       "text": [
        "[u'selling', u'message', u'interested', u'obo', u'10', u'20', u'message interested', u'sale', u'15', u'new', u'size', u'free', u'need', u'30', u'desk', u'50', u'used', u'book', u'mattress', u'bed', u'table', u'ticket', u'price', u'edition', u'chair', u'40', u'pick', u'want', u'offer', u'25', u'condition', u'bike', u'lamp', u'fridge', u'books', u'black', u'sell', u'best', u'ikea', u'tv', u'small', u'negotiable', u'twin', u'tickets', u'details', u'know', u'mini', u'box', u'best offer', u'available', u'great', u'textbook', u'like', u'frame', u'brand', u'white', u'just', u'mini fridge', u'room', u'100', u'brand new', u'60', u'does', u'good', u'couch', u'dresser', u'set', u'com', u'math', u'message details', u'summer', u'sublet', u'anybody', u'let', u'spring', u'http', u'll', u'pm', u'selling bike', u'let know', u'printer', u'got', u'tomorrow', u'35', u'msg', u'evanston', u'large', u'year', u'old', u'buy', u'microwave', u'coffee', u'really', u'today', u'box spring', u'worn', u'chairs', u'saturday', u'bought', u'included']\n",
        "\n",
        "[u'buying', u'edition', u'book', u'econ', u'bike', u'textbook', u'math', u'message', u'201', u'selling', u'books', u'chem', u'psych', u'principles', u'230', u'clicker', u'3rd', u'intro', u'220', u'101', u'manual', u'fridge', u'desk', u'thanks', u'table', u'cheap', u'microwave', u'futon', u'mini fridge', u'new', u'mini', u'ticket', u'interested', u'spring', u'10', u'don', u'sell', u'box', u'study', u'box spring', u'help', u'msg', u'let know', u'let', u'30', u'know', u'campus', u'good', u'want', u'dresser', u'black', u'tv', u'15', u'pm', u'ac', u'lamp', u'coffee table', u'll', u'frame', u'coffee', u'unit', u'message interested', u'12', u'office', u'couch', u'tomorrow', u'does', u'just', u'set', u'anybody', u'saturday', u'price', u'size', u'10 obo', u'drawers', u'today', u'asap', u'drawer', u'20', u'plastic', u'35', u'buy', u'small', u'bed', u'come', u'40', u'chair', u'25', u'chicago', u'storage', u'message details', u'like new', u'mattress box', u'chairs', u'100', u'sized', u'white', u'details', u'really', u'bed frame']\n",
        "\n",
        "[u'looking', u'looking buy', u'buy', u'message', u'bike', u'desk', u'sell', u'know', u'selling', u'dresser', u'bed', u'thanks', u'let know', u'let', u'chair', u'table', u'mattress', u'small', u'pick', u'couch', u'frame', u'size', u'book', u'textbook', u'sublet', u'bed frame', u'floor', u'msg', u'ticket', u'fall', u'cheap', u'lamp', u'sized', u'tv', u'fridge', u'futon', u'room', u'pay', u'tickets', u'unit', u'chairs', u'rid', u'queen', u'desk chair', u'microwave', u'books', u'bookshelf', u'size bed', u'hey', u'willing', u'mini fridge', u'place', u'mini', u'like', u'twin', u'dining', u'good', u'pm', u'stand', u'nice', u'printer', u'large', u'july', u'apartment', u'edition', u'price', u'office', u'furniture', u'ac', u'need', u'saturday', u'drawers', u'kitchen', u'month', u'study', u'interested', u'summer', u'june', u'chem', u'just', u'august', u'bed mattress', u'math', u'available', u'coffee table', u'got', u'coffee', u'day', u'extra', u'sale', u'northwestern', u'old', u'anybody', u'box', u'clicker', u'does', u'econ', u'game', u'll', u'campus']\n",
        "\n"
       ]
      }
     ],
     "prompt_number": 43
    },
    {
     "cell_type": "markdown",
     "metadata": {},
     "source": [
      "It seems like when clustering with k=3, it consistently clusters into \"unsure\", \"buying\", and \"selling\". Let's try looking at just the datapoints that are clustered as \"selling\" to see how they cluster."
     ]
    },
    {
     "cell_type": "code",
     "collapsed": false,
     "input": [],
     "language": "python",
     "metadata": {},
     "outputs": [],
     "prompt_number": 43
    }
   ],
   "metadata": {}
  }
 ]
}