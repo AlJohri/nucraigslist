{
 "metadata": {
  "name": "",
  "signature": "sha256:c3044b833e0f8c2af3e2e8fa01a242d99ca91a80240623c0de3a3860cd323bc6"
 },
 "nbformat": 3,
 "nbformat_minor": 0,
 "worksheets": [
  {
   "cells": [
    {
     "cell_type": "code",
     "collapsed": false,
     "input": [
      "%matplotlib inline\n",
      "\n",
      "from __future__ import division \n",
      "\n",
      "import numpy as np\n",
      "import matplotlib.pyplot as plt\n",
      "\n",
      "from scipy.cluster.vq import kmeans,vq\n",
      "from scipy.spatial.distance import cdist\n",
      "\n",
      "from sklearn.cluster import KMeans \n",
      "from sklearn.cluster import DBSCAN\n",
      "from sklearn.feature_extraction.text import TfidfVectorizer \n",
      "from sklearn.decomposition import TruncatedSVD\n",
      "from sklearn.pipeline import make_pipeline\n",
      "from sklearn.preprocessing import Normalizer\n",
      "from sklearn import metrics \n",
      "\n",
      "import mpld3\n",
      "from mpld3 import plugins \n",
      "\n",
      "from pprint import pprint as pp\n",
      "from dateutil.parser import parse \n",
      "import random "
     ],
     "language": "python",
     "metadata": {},
     "outputs": [],
     "prompt_number": 4
    },
    {
     "cell_type": "code",
     "collapsed": false,
     "input": [
      "listings = np.array([listing for listing in Listing.objects.all()])\n",
      "text = np.array([listing.message for listing in listings])"
     ],
     "language": "python",
     "metadata": {},
     "outputs": [],
     "prompt_number": 5
    },
    {
     "cell_type": "code",
     "collapsed": false,
     "input": [
      "vectorizer = TfidfVectorizer(min_df=0.01, stop_words='english')\n",
      "X = vectorizer.fit_transform(text).toarray()"
     ],
     "language": "python",
     "metadata": {},
     "outputs": [],
     "prompt_number": 12
    },
    {
     "cell_type": "code",
     "collapsed": false,
     "input": [
      "K = range(1,10)\n",
      "KM = [kmeans(X,k) for k in K] # apply kmeans 1 to 10\n",
      "centroids = [cent for (cent,var) in KM] \n",
      "D_k = [cdist(X, cent, 'euclidean') for cent in centroids]\n",
      "\n",
      "cIdx = [np.argmin(D,axis=1) for D in D_k]\n",
      "dist = [np.min(D,axis=1) for D in D_k]\n",
      "avgWithinSS = [sum(d)/X.shape[0] for d in dist]  \n",
      "kIdx = 2\n",
      "# plot elbow curve\n",
      "fig = plt.figure()\n",
      "ax = fig.add_subplot(111)\n",
      "ax.plot(K, avgWithinSS, 'b*-')\n",
      "ax.plot(K[kIdx], avgWithinSS[kIdx], marker='o', markersize=12, \n",
      "      markeredgewidth=2, markeredgecolor='r', markerfacecolor='None')\n",
      "plt.grid(True)\n",
      "plt.xlabel('Number of clusters')\n",
      "plt.ylabel('Average within-cluster sum of squares')\n",
      "tt = plt.title('Elbow for K-Means clustering')  \n"
     ],
     "language": "python",
     "metadata": {},
     "outputs": [
      {
       "metadata": {},
       "output_type": "display_data",
       "png": "[encoded data removed]",
       "text": [
        "<matplotlib.figure.Figure at 0x10698f090>"
       ]
      }
     ],
     "prompt_number": 14
    },
    {
     "cell_type": "code",
     "collapsed": false,
     "input": [
      "N_CLUSTERS = 3\n",
      "k_means = KMeans(n_clusters=N_CLUSTERS, init='k-means++', max_iter=100, n_init=1, verbose=True)\n",
      "# svd = TruncatedSVD(2) \n",
      "# lsa = make_pipeline(svd, Normalizer(copy=False)) \n",
      "k_means.fit(X)\n",
      "k_means_labels = k_means.labels_\n",
      "k_means_cluster_centers = k_means.cluster_centers_\n",
      "k_means_labels_unique = np.unique(k_means_labels)\n",
      "terms = vectorizer.get_feature_names()"
     ],
     "language": "python",
     "metadata": {},
     "outputs": [
      {
       "output_type": "stream",
       "stream": "stdout",
       "text": [
        "Initialization complete\n",
        "Iteration  0, inertia 11139.694\n",
        "Iteration  1, inertia 5644.233\n",
        "Iteration  2, inertia 5586.982\n",
        "Iteration  3, inertia 5580.264\n",
        "Iteration  4, inertia 5578.364\n",
        "Iteration  5, inertia 5577.643"
       ]
      },
      {
       "output_type": "stream",
       "stream": "stdout",
       "text": [
        "\n",
        "Iteration  6, inertia 5577.215\n",
        "Iteration  7, inertia 5576.982\n",
        "Iteration  8, inertia 5576.884\n",
        "Iteration  9, inertia 5576.833\n",
        "Iteration 10, inertia 5576.813\n",
        "Iteration 11, inertia 5576.810"
       ]
      },
      {
       "output_type": "stream",
       "stream": "stdout",
       "text": [
        "\n",
        "Iteration 12, inertia 5576.808\n",
        "Iteration 13, inertia 5576.806\n",
        "Iteration 14, inertia 5576.804\n",
        "Converged at iteration 14\n"
       ]
      }
     ],
     "prompt_number": 15
    },
    {
     "cell_type": "code",
     "collapsed": false,
     "input": [
      "order_centroids = k_means_cluster_centers.argsort()[:, ::-1]\n",
      "for i in range(N_CLUSTERS):\n",
      "    print [(terms[ind], k_means_cluster_centers[i][ind]) for ind in order_centroids[i, :100]]\n",
      "    print \"\"\n"
     ],
     "language": "python",
     "metadata": {},
     "outputs": [
      {
       "output_type": "stream",
       "stream": "stdout",
       "text": [
        "[(u'obo', 0.045554313914594899), (u'message', 0.044436721871185317), (u'buying', 0.043639231512617518), (u'10', 0.03835131306240909), (u'interested', 0.036624939864999477), (u'sale', 0.03500396373449749), (u'20', 0.033098557823818431), (u'selling', 0.032975242239430741), (u'free', 0.029862302200353661), (u'size', 0.02914591033803322), (u'new', 0.028138531477267237), (u'15', 0.027766179873071083), (u'com', 0.027302038153482831), (u'need', 0.026709694699909352), (u'http', 0.026686266189429458), (u'desk', 0.025030893644742477), (u'bed', 0.024907323281581961), (u'table', 0.024159596780967404), (u'mattress', 0.023918536973937022), (u'30', 0.023087654661973468), (u'pick', 0.021478375299077552), (u'offer', 0.021040028607526705), (u'www', 0.020895865136426533), (u'chair', 0.020785890435815697), (u'want', 0.020550472822697091), (u'price', 0.020324866640840777), (u'50', 0.020217637603592176), (u'used', 0.019753788945990437), (u'lamp', 0.019665638263631106), (u'best', 0.019140064301302752), (u'ikea', 0.019118658021683534), (u'sell', 0.018744035341818593), (u'condition', 0.018540536660214192), (u'40', 0.01835656445450095), (u'25', 0.01786218524924715), (u'black', 0.017640536109691234), (u'box', 0.017003092810364186), (u'twin', 0.01681840383771056), (u'available', 0.016501585092526562), (u'small', 0.016209951006525038), (u'negotiable', 0.015716778253751548), (u'tv', 0.015700546265816906), (u'details', 0.015649322311799278), (u'frame', 0.015595853549320632), (u'fridge', 0.015575433036360902), (u'just', 0.014965312926853845), (u'great', 0.01489736112066716), (u'like', 0.014865223220263683), (u'know', 0.014863440441544579), (u'room', 0.014632114733910266), (u'brand', 0.013981721768520795), (u'mini', 0.013385467956332265), (u'does', 0.013329668108209337), (u'white', 0.013283968292266114), (u'bike', 0.012997608482808537), (u'good', 0.012980736006937645), (u'spring', 0.012867095022624345), (u'set', 0.012770800844560557), (u'sublet', 0.012746926676987612), (u'book', 0.012625949276335795), (u'couch', 0.012608996527645787), (u'60', 0.012034597691273999), (u'edition', 0.011945406476751149), (u'summer', 0.011927069289750227), (u'100', 0.011523592082737998), (u'll', 0.011173536928387719), (u'books', 0.010599399835525837), (u'chicago', 0.010558495422849704), (u'evanston', 0.010264001429114189), (u'tomorrow', 0.010229954966495796), (u'got', 0.01020012885353146), (u'large', 0.01006076628942568), (u'coffee', 0.0099877067747227311), (u'let', 0.0097742441105594241), (u'tickets', 0.0096812528694621425), (u'amazon', 0.0095331705800226034), (u'year', 0.0095090248179424755), (u'35', 0.0094965004302524046), (u'printer', 0.0094145470109526456), (u'queen', 0.0094080199167675856), (u'today', 0.0093782831577648405), (u'picked', 0.0092024955884990427), (u'old', 0.0090329374365676948), (u'msg', 0.0090304648380635962), (u'really', 0.0089663354527336307), (u'sized', 0.0089550081916149916), (u'worn', 0.0089353790971839278), (u'ticket', 0.0088652497278561525), (u'dresser', 0.0088615990697886865), (u'included', 0.0087089744808924088), (u'bought', 0.0086639878805613805), (u'don', 0.0085101102832244348), (u'12', 0.0085068135557918034), (u'chairs', 0.008491731981341016), (u'plastic', 0.0084741323776900135), (u'come', 0.0083632846600765233), (u'june', 0.0083149920727652385), (u'willing', 0.0082969910549234409), (u'extra', 0.0082355976662003179), (u'buy', 0.0081968045932523589)]\n",
        "\n",
        "[(u'selling', 0.3643104847651904), (u'message', 0.071710015191680271), (u'interested', 0.054573771565924536), (u'edition', 0.053485386540230384), (u'book', 0.051142330678991738), (u'bike', 0.045411924108826218), (u'ticket', 0.045023714670380507), (u'textbook', 0.036896405471748807), (u'books', 0.036090769119353092), (u'math', 0.033765827876443034), (u'econ', 0.024529158436178096), (u'10', 0.022097389830671114), (u'tickets', 0.021636297779652612), (u'fridge', 0.020781667855198766), (u'intro', 0.019803244394685005), (u'manual', 0.019639674681860911), (u'obo', 0.019226767342083291), (u'used', 0.019162310561055846), (u'50', 0.018576729452293512), (u'anybody', 0.017709553320028805), (u'mini', 0.017464154830003048), (u'psych', 0.017293967161572978), (u'230', 0.017026767625252875), (u'chem', 0.016823168956725074), (u'buying', 0.016728696496394219), (u'201', 0.015714310980897265), (u'new', 0.015635848312456999), (u'dresser', 0.015593126776531239), (u'20', 0.015150678815741879), (u'40', 0.014449032012034346), (u'220', 0.014079908457575174), (u'principles', 0.014001349415619511), (u'30', 0.013960718803657353), (u'clicker', 0.013467108071744099), (u'15', 0.013403898270176363), (u'details', 0.01301335395981483), (u'condition', 0.012704938202628495), (u'microwave', 0.011784450857831722), (u'25', 0.011224558604079993), (u'know', 0.010869842619806169), (u'saturday', 0.010459725964023333), (u'price', 0.010412021992845921), (u'desk', 0.010374150093683157), (u'3rd', 0.010236499771239147), (u'let', 0.0098644779887658799), (u'100', 0.0097993367211567442), (u'chair', 0.0097714221191047557), (u'pm', 0.0093119783669052009), (u'cheap', 0.0091023197760741088), (u'101', 0.0090810521555025128), (u'unit', 0.0088622329024540675), (u'sunday', 0.0088352863282525756), (u'negotiable', 0.0083202481474365236), (u'day', 0.008317457522313167), (u'mattress', 0.0079752576746681993), (u'study', 0.0078953095403711728), (u'game', 0.0077429433961298082), (u'tv', 0.0075402729497397207), (u'size', 0.0073563631473621653), (u'brand', 0.0069065423306435489), (u'small', 0.0068868802141012209), (u'bed', 0.0068199439811273584), (u'white', 0.0063921107084525374), (u'great', 0.0063360365373682712), (u'60', 0.0062921335878730004), (u'good', 0.0062687687536715506), (u'black', 0.0062409913802619977), (u'table', 0.0059842905417275306), (u'futon', 0.0058822082456755388), (u'msg', 0.0058564052853975947), (u'offer', 0.005741453282630397), (u'buy', 0.0054182187497942742), (u'twin', 0.0053442622656198601), (u'prices', 0.0051151261326169168), (u'northwestern', 0.0048055810838024465), (u'set', 0.0047501808914317363), (u'80', 0.0046677981702693324), (u'comes', 0.0046618131315844143), (u'want', 0.0045732030851788098), (u'ac', 0.0045486068698658965), (u'like', 0.0044902246505146926), (u'couch', 0.0044570205429675866), (u'box', 0.0043355713384042611), (u'frame', 0.0041545588021353157), (u'lamp', 0.0040301341941286015), (u'need', 0.0039655659291232704), (u'35', 0.0038723731996772822), (u'furniture', 0.0038552107025486967), (u'printer', 0.0038026846690100086), (u'old', 0.0037042723607679626), (u'office', 0.0036972812611309131), (u'away', 0.003636263820958868), (u'best', 0.0035454039847145884), (u'ikea', 0.0033243526852779134), (u'thanks', 0.0032977919547013713), (u'chairs', 0.0031453087614291466), (u'tomorrow', 0.0029135910064758911), (u'does', 0.0027869102900601218), (u'drawers', 0.0027646924644700514), (u'really', 0.0026735483532027036)]\n",
        "\n",
        "[(u'looking', 0.39969648849559547), (u'buy', 0.12713661635545823), (u'message', 0.066787465913428462), (u'bike', 0.061367373980836387), (u'desk', 0.03915622562751063), (u'selling', 0.036727955468263615), (u'bed', 0.036424580520666883), (u'sell', 0.036178445110836968), (u'know', 0.035380011172217361), (u'dresser', 0.033134496992219375), (u'thanks', 0.032113793228203007), (u'let', 0.029517093873091281), (u'chair', 0.028025323134065569), (u'table', 0.024387274770775316), (u'mattress', 0.024039029478919262), (u'frame', 0.022275400445158359), (u'small', 0.021767959441944259), (u'couch', 0.021150163557576325), (u'pick', 0.020525882468404054), (u'size', 0.019897936329255121), (u'book', 0.017814314412158264), (u'textbook', 0.017562756070460997), (u'fridge', 0.015700666267229119), (u'ticket', 0.015285428232952218), (u'floor', 0.015095606956522515), (u'sized', 0.014187818727245864), (u'lamp', 0.01410113354438354), (u'msg', 0.013918001437211242), (u'cheap', 0.013877591484766661), (u'futon', 0.013731444950559529), (u'unit', 0.013490115244500583), (u'fall', 0.013453181051146115), (u'tickets', 0.013337431279214216), (u'tv', 0.013236550675171335), (u'queen', 0.013041063794660612), (u'chairs', 0.013022929426832364), (u'sublet', 0.01266905066124621), (u'pay', 0.012570987004782989), (u'rid', 0.012207675540719085), (u'microwave', 0.011526638574907135), (u'books', 0.011051937379390496), (u'room', 0.01099009704608174), (u'bookshelf', 0.010887014564588614), (u'mini', 0.010796772076217865), (u'twin', 0.010266834599809605), (u'hey', 0.010171148701489517), (u'pm', 0.0093759216793227879), (u'good', 0.0092212449332697236), (u'dining', 0.0090243377886317991), (u'price', 0.0086761692503982413), (u'stand', 0.0086163522254830358), (u'printer', 0.0084314709156207441), (u'willing', 0.0084000851719460441), (u'like', 0.0083879210260509804), (u'nice', 0.0082302782515394201), (u'large', 0.0081358628761192871), (u'place', 0.0080778087219440398), (u'edition', 0.0076943200368034155), (u'drawers', 0.0075066573687229531), (u'office', 0.0073790658378403949), (u'box', 0.0072674039148873321), (u'ac', 0.007242402119244133), (u'coffee', 0.0070042788006473801), (u'saturday', 0.0069615664231952841), (u'interested', 0.0069539754544986898), (u'need', 0.0069417423083004085), (u'furniture', 0.0068189580672087993), (u'july', 0.0065503886324161029), (u'kitchen', 0.0064825292654166304), (u'study', 0.0064671335483260858), (u'available', 0.0058487157515744147), (u'condition', 0.0057971415149762687), (u'spring', 0.0057663119992242065), (u'got', 0.0056883053759185457), (u'chem', 0.0055305355003533972), (u'apartment', 0.0055245174060074365), (u'august', 0.0054418646988176993), (u'month', 0.005327068113572149), (u'math', 0.0053243958585051125), (u'just', 0.0053147952869608984), (u'day', 0.0053021157041260505), (u'summer', 0.0051758234722123148), (u'clicker', 0.0051259696140138642), (u'old', 0.0051150360220913425), (u'june', 0.0051108876215455352), (u'psych', 0.00499907588857074), (u'econ', 0.004926834908029842), (u'picked', 0.0048782774314566815), (u'll', 0.0048528722965053709), (u'100', 0.0048427581825383958), (u'game', 0.0048234659336353165), (u'does', 0.0048221165612647721), (u'sale', 0.0047643081098273643), (u'extra', 0.0047125882848250396), (u'principles', 0.0045756420151606232), (u'anybody', 0.0044281960690217498), (u'white', 0.0043498681003657389), (u'sunday', 0.004232620178826323), (u'101', 0.0042038406097012612), (u'northwestern', 0.0041363935917808452)]\n",
        "\n"
       ]
      }
     ],
     "prompt_number": 16
    },
    {
     "cell_type": "code",
     "collapsed": false,
     "input": [],
     "language": "python",
     "metadata": {},
     "outputs": []
    }
   ],
   "metadata": {}
  }
 ]
}