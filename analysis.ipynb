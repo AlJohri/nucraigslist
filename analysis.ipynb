{
 "metadata": {
  "name": "",
  "signature": "sha256:71d1d58e69df5528b796ecaef027bd00832816466f256683bcd68ab85ff60632"
 },
 "nbformat": 3,
 "nbformat_minor": 0,
 "worksheets": [
  {
   "cells": [
    {
     "cell_type": "code",
     "collapsed": false,
     "input": [
      "%matplotlib inline\n",
      "\n",
      "from __future__ import division \n",
      "\n",
      "import numpy as np\n",
      "import matplotlib.pyplot as plt\n",
      "\n",
      "from scipy.cluster.vq import kmeans,vq\n",
      "from scipy.spatial.distance import cdist\n",
      "\n",
      "from sklearn.cluster import KMeans \n",
      "from sklearn.cluster import DBSCAN\n",
      "from sklearn.feature_extraction.text import TfidfVectorizer \n",
      "from sklearn.decomposition import TruncatedSVD\n",
      "from sklearn.pipeline import make_pipeline\n",
      "from sklearn.preprocessing import Normalizer\n",
      "from sklearn import metrics \n",
      "\n",
      "import mpld3\n",
      "from mpld3 import plugins \n",
      "\n",
      "from pprint import pprint as pp\n",
      "from dateutil.parser import parse \n",
      "import random \n",
      "\n",
      "def elbow_method(X):\n",
      "    K = range(1,10)\n",
      "    KM = [kmeans(X,k) for k in K] # apply kmeans 1 to 10\n",
      "    centroids = [cent for (cent,var) in KM] \n",
      "    D_k = [cdist(X, cent, 'euclidean') for cent in centroids]\n",
      "\n",
      "    cIdx = [np.argmin(D,axis=1) for D in D_k]\n",
      "    dist = [np.min(D,axis=1) for D in D_k]\n",
      "    avgWithinSS = [sum(d)/X.shape[0] for d in dist]  \n",
      "    kIdx = 2\n",
      "    # plot elbow curve\n",
      "    fig = plt.figure()\n",
      "    ax = fig.add_subplot(111)\n",
      "    ax.plot(K, avgWithinSS, 'b*-')\n",
      "    ax.plot(K[kIdx], avgWithinSS[kIdx], marker='o', markersize=12, \n",
      "          markeredgewidth=2, markeredgecolor='r', markerfacecolor='None')\n",
      "    plt.grid(True)\n",
      "    plt.xlabel('Number of clusters')\n",
      "    plt.ylabel('Average within-cluster sum of squares')\n",
      "    tt = plt.title('Elbow for K-Means clustering')  \n"
     ],
     "language": "python",
     "metadata": {},
     "outputs": [],
     "prompt_number": 1
    },
    {
     "cell_type": "code",
     "collapsed": false,
     "input": [
      "listings = np.array([listing for listing in Listing.objects.all()])\n",
      "text = np.array([listing.message for listing in listings])"
     ],
     "language": "python",
     "metadata": {},
     "outputs": [],
     "prompt_number": 2
    },
    {
     "cell_type": "code",
     "collapsed": false,
     "input": [
      "vectorizer = TfidfVectorizer(min_df=0.01, ngram_range=(1,2), stop_words='english')\n",
      "X = vectorizer.fit_transform(text).toarray()"
     ],
     "language": "python",
     "metadata": {},
     "outputs": [],
     "prompt_number": 3
    },
    {
     "cell_type": "code",
     "collapsed": false,
     "input": [
      "# elbow_method(X)"
     ],
     "language": "python",
     "metadata": {},
     "outputs": [],
     "prompt_number": 4
    },
    {
     "cell_type": "code",
     "collapsed": false,
     "input": [
      "N_CLUSTERS = 3\n",
      "k_means = KMeans(n_clusters=N_CLUSTERS, init='k-means++', max_iter=100, n_init=1, verbose=True)\n",
      "# svd = TruncatedSVD(2) \n",
      "# lsa = make_pipeline(svd, Normalizer(copy=False)) \n",
      "k_means.fit(X)\n",
      "k_means_labels = k_means.labels_\n",
      "k_means_cluster_centers = k_means.cluster_centers_\n",
      "k_means_labels_unique = np.unique(k_means_labels)\n",
      "terms = vectorizer.get_feature_names()"
     ],
     "language": "python",
     "metadata": {},
     "outputs": [
      {
       "output_type": "stream",
       "stream": "stdout",
       "text": [
        "Initialization complete\n",
        "Iteration  0, inertia 10275.711\n",
        "Iteration  1, inertia 5671.222\n",
        "Iteration  2, inertia 5625.249\n",
        "Iteration  3, inertia 5612.690"
       ]
      },
      {
       "output_type": "stream",
       "stream": "stdout",
       "text": [
        "\n",
        "Iteration  4, inertia 5606.092\n",
        "Iteration  5, inertia 5605.082\n",
        "Iteration  6, inertia 5604.837\n",
        "Iteration  7, inertia 5604.757\n",
        "Iteration  8, inertia 5604.732\n",
        "Iteration  9, inertia 5604.724"
       ]
      },
      {
       "output_type": "stream",
       "stream": "stdout",
       "text": [
        "\n",
        "Converged at iteration 9\n"
       ]
      }
     ],
     "prompt_number": 5
    },
    {
     "cell_type": "code",
     "collapsed": false,
     "input": [
      "order_centroids = k_means_cluster_centers.argsort()[:, ::-1]\n",
      "for i in range(N_CLUSTERS):\n",
      "    print [(terms[ind], k_means_cluster_centers[i][ind]) for ind in order_centroids[i, :100]]\n",
      "    print \"\"\n"
     ],
     "language": "python",
     "metadata": {},
     "outputs": [
      {
       "output_type": "stream",
       "stream": "stdout",
       "text": [
        "[(u'obo', 0.043726084431212925), (u'buying', 0.042766164143112489), (u'message', 0.042443892671423213), (u'10', 0.036480773714097685), (u'interested', 0.033971617593181319), (u'selling', 0.033259280435867095), (u'sale', 0.032913802038865202), (u'20', 0.03143724441551627), (u'free', 0.028828734987733088), (u'size', 0.027444385152513479), (u'new', 0.026994345123197566), (u'15', 0.026255737392102733), (u'need', 0.025619238990024037), (u'com', 0.024812439659129291), (u'http', 0.024164215514253469), (u'desk', 0.02391978919709279), (u'bed', 0.023412395418123299), (u'table', 0.023083549667370827), (u'mattress', 0.022449917514751058), (u'30', 0.021805294643408642), (u'message interested', 0.02160434017063884), (u'pick', 0.02063560189178509), (u'want', 0.019879600140834806), (u'price', 0.019818989573903122), (u'chair', 0.019747775936953614), (u'offer', 0.019740702638352939), (u'50', 0.019620133374301175), (u'used', 0.019268173732563947), (u'lamp', 0.01916313997149037), (u'www', 0.018562750763449563), (u'sell', 0.018246324835836505), (u'ikea', 0.018097954611652402), (u'best', 0.017674154496950957), (u'condition', 0.017450194969021105), (u'40', 0.017407661030871522), (u'25', 0.017175292821964169), (u'black', 0.016861438483874776), (u'http www', 0.016380482744637218), (u'best offer', 0.01575308170365914), (u'twin', 0.015490929221885684), (u'box', 0.015485753158119061), (u'small', 0.015411127516036963), (u'available', 0.015409823818515904), (u'negotiable', 0.015311602326437287), (u'tv', 0.015194346998378043), (u'details', 0.015001881290446027), (u'fridge', 0.014965987820856503), (u'frame', 0.014540434186317376), (u'just', 0.014258333649064921), (u'brand', 0.014128493303478791), (u'room', 0.014059495226310181), (u'great', 0.014004043114662515), (u'know', 0.013845473919479127), (u'like', 0.013825101083510411), (u'brand new', 0.013204050289307805), (u'mini', 0.012885606488940972), (u'does', 0.012867436436978696), (u'set', 0.012639650488333565), (u'white', 0.012561632848732735), (u'book', 0.012494938844934789), (u'bike', 0.012480753484810019), (u'couch', 0.012365950074989591), (u'good', 0.012338962826332022), (u'sublet', 0.011878902531279108), (u'spring', 0.011550215226325815), (u'60', 0.011519327326978166), (u'edition', 0.011393289722438294), (u'summer', 0.011200089196634766), (u'100', 0.011114183652342373), (u'mini fridge', 0.010894590848364133), (u'll', 0.010784786262379406), (u'books', 0.010509945049285849), (u'tomorrow', 0.010000752323341416), (u'chicago', 0.0099554057393773966), (u'got', 0.0099379467522944416), (u'evanston', 0.0097831455834409796), (u'box spring', 0.0097565501131713396), (u'large', 0.0097286728880493761), (u'coffee', 0.0094420832698399407), (u'message details', 0.0094045463280391615), (u'tickets', 0.0093163143411559967), (u'35', 0.0091849857849241653), (u'year', 0.0091279733346067132), (u'queen', 0.0090377211018331429), (u'msg', 0.0090166721918763341), (u'today', 0.0090010790004220447), (u'ticket', 0.0089324380033914148), (u'let', 0.0088649899681616656), (u'sized', 0.0088560917863049239), (u'old', 0.0088179957385781139), (u'dresser', 0.008788618328594261), (u'picked', 0.008729461546702821), (u'bed frame', 0.0087195666185097553), (u'printer', 0.0086957780715900736), (u'really', 0.0086433593498330356), (u'chairs', 0.0084109201605408468), (u'worn', 0.0083836708147703842), (u'12', 0.0083111766599349695), (u'let know', 0.0082461044320286288), (u'bought', 0.0081934610348454919)]\n",
        "\n",
        "[(u'selling', 0.35716523001126532), (u'message', 0.065562191536915393), (u'edition', 0.055496669543818863), (u'book', 0.051957189203536522), (u'interested', 0.050675442371344637), (u'ticket', 0.044205870429929073), (u'message interested', 0.041407575785295532), (u'textbook', 0.038736848883818994), (u'bike', 0.036359317521109671), (u'books', 0.035808662325187257), (u'math', 0.035094514001798471), (u'selling bike', 0.030781469959362283), (u'econ', 0.025721202003850325), (u'tickets', 0.022129419571436666), (u'10', 0.020953623079298083), (u'intro', 0.020722078905835078), (u'manual', 0.019997999572379493), (u'230', 0.018302592325242492), (u'psych', 0.018164807055509418), (u'anybody', 0.018136207706541209), (u'used', 0.017102087108281126), (u'50', 0.016948714471087954), (u'chem', 0.016803245886173025), (u'buying', 0.016767368128168557), (u'201', 0.016456064807293516), (u'obo', 0.016141622248797161), (u'fridge', 0.015880454108485657), (u'20', 0.015598210775815293), (u'dresser', 0.015359450021718866), (u'principles', 0.014704439547716105), (u'15', 0.014630805350219437), (u'220', 0.014584933433483341), (u'30', 0.014254638669767703), (u'40', 0.014192314014844717), (u'clicker', 0.013901382603120283), (u'mini', 0.012417316563679061), (u'mini fridge', 0.011856681506924418), (u'3rd', 0.011438433937702327), (u'microwave', 0.011172321007049828), (u'new', 0.010694043944238058), (u'25', 0.010573417263530034), (u'saturday', 0.01053159804546178), (u'condition', 0.0099686442932471805), (u'know', 0.0098639847017747938), (u'pm', 0.0097681792028033784), (u'101', 0.0094658735327550758), (u'desk', 0.009415474903882743), (u'100', 0.0093168388249758038), (u'chair', 0.0090010668420706218), (u'cheap', 0.0089791373952435635), (u'details', 0.0089219125809049376), (u'let', 0.0087554008515989684), (u'sunday', 0.0084609663334520128), (u'unit', 0.0083909348872611665), (u'study', 0.0081361807557586395), (u'let know', 0.0080298514577732735), (u'game', 0.0078988937254539579), (u'message details', 0.0078249145270239233), (u'day', 0.0077999846942540902), (u'small', 0.0077349411578645499), (u'price', 0.0075150058071447381), (u'tv', 0.0074136932637971506), (u'white', 0.00683402347178339), (u'size', 0.0067016651194255848), (u'mattress', 0.0066054446196476303), (u'60', 0.0062078561067260025), (u'black', 0.0060313140187163604), (u'table', 0.0058073891058834058), (u'futon', 0.005527921795136918), (u'buy', 0.0055022178870366041), (u'negotiable', 0.0052486199573949883), (u'great', 0.0050831340020214156), (u'msg', 0.0049833470605678675), (u'good', 0.0048880973475700909), (u'northwestern', 0.0048284598729683211), (u'80', 0.0047648371094404177), (u'couch', 0.0045381701913711995), (u'need', 0.0044457642270731654), (u'printer', 0.0043652501895403931), (u'twin', 0.0043210023182035885), (u'want', 0.0042871366520310372), (u'comes', 0.0042765890790450621), (u'prices', 0.004269071435305102), (u'box', 0.0040542993858043415), (u'ac', 0.0039111794786796626), (u'office', 0.0038391695456908678), (u'like', 0.003784013376654953), (u'35', 0.0037623691937261725), (u'away', 0.0036568365220083325), (u'furniture', 0.0035605502631686908), (u'bed', 0.0034865318294427586), (u'offer', 0.0034270232769307296), (u'thanks', 0.0034149022850851916), (u'set', 0.0033936071346215551), (u'lamp', 0.0032876925244506618), (u'great condition', 0.0032404039428594925), (u'old', 0.003093134643043895), (u'chairs', 0.0029328674946666033), (u'does', 0.0028938618288664756), (u'drawers', 0.0028707913634753663)]\n",
        "\n",
        "[(u'looking', 0.38260113588780276), (u'looking buy', 0.11251190667204605), (u'buy', 0.11007855052047008), (u'message', 0.062394014842424142), (u'bike', 0.059533354504959737), (u'desk', 0.035161369229286324), (u'sell', 0.0343158716874052), (u'selling', 0.034227677834168829), (u'know', 0.03338111111555167), (u'dresser', 0.031273321455968929), (u'thanks', 0.031049838996582091), (u'bed', 0.029812163396164618), (u'let know', 0.027771717931774485), (u'let', 0.027355645674889274), (u'chair', 0.025195509754276483), (u'table', 0.022398922134962616), (u'small', 0.021096345165515611), (u'mattress', 0.020036905588647631), (u'couch', 0.019218753105646507), (u'pick', 0.019122540138528796), (u'frame', 0.018352130475577218), (u'textbook', 0.017400092012629854), (u'size', 0.017094408365751441), (u'book', 0.016686112132583454), (u'bed frame', 0.015627260650892025), (u'ticket', 0.014951487225660955), (u'floor', 0.014297138288782246), (u'fridge', 0.013907476423128597), (u'msg', 0.013672328484023872), (u'lamp', 0.013666648014846133), (u'cheap', 0.013661677825185535), (u'futon', 0.0134521008232513), (u'tickets', 0.01318850068597145), (u'unit', 0.013105718288055974), (u'fall', 0.013019490894889244), (u'tv', 0.01278310252942833), (u'pay', 0.012736840992950645), (u'sublet', 0.012666458079843766), (u'rid', 0.012273224733323124), (u'chairs', 0.012252037428332176), (u'sized', 0.012140959914993312), (u'queen', 0.011427853603457588), (u'desk chair', 0.011361355509191215), (u'room', 0.011324768127980686), (u'microwave', 0.011098609832053498), (u'books', 0.010578120904315024), (u'bookshelf', 0.0098398568751688342), (u'mini fridge', 0.0093584070949963329), (u'hey', 0.0093456951866504601), (u'mini', 0.0091251782432092126), (u'pm', 0.0091098134828522942), (u'dining', 0.0088676536574160292), (u'size bed', 0.0087051319286423953), (u'willing', 0.0085337397046188427), (u'twin', 0.0085141030782398715), (u'like', 0.0083594857034195238), (u'good', 0.0083321745159473451), (u'stand', 0.0081843115530634402), (u'printer', 0.0080347057026930544), (u'place', 0.0079600808490018909), (u'nice', 0.0077921305947947789), (u'large', 0.0076583622836000958), (u'edition', 0.0074853415796283448), (u'price', 0.0071161770129666395), (u'ac', 0.007037701967346285), (u'saturday', 0.0068174591063126979), (u'office', 0.0068004261308652215), (u'furniture', 0.0065638085700546588), (u'study', 0.0064338105389725843), (u'drawers', 0.0063886032740043952), (u'interested', 0.0063793310798558392), (u'need', 0.0058274772816058196), (u'coffee table', 0.0057219195098541049), (u'august', 0.00565554566125536), (u'coffee', 0.0056378197636378271), (u'kitchen', 0.0055540958011908543), (u'apartment', 0.0055436842470347704), (u'chem', 0.0055176804797422846), (u'july', 0.0054893334321011265), (u'available', 0.0054408585385403935), (u'day', 0.0053945273068123139), (u'math', 0.0053639767940922237), (u'june', 0.0053159302478008666), (u'got', 0.0052068675080030984), (u'old', 0.0050591985164386948), (u'just', 0.0050412673183401297), (u'clicker', 0.0049972713890815033), (u'extra', 0.0049279371196626585), (u'does', 0.0049061621658184132), (u'psych', 0.0049011150182585476), (u'econ', 0.004884525252996476), (u'box', 0.0048534838025792674), (u'game', 0.0048072551580993208), (u'month', 0.0047722307229036733), (u'll', 0.0047518225117735534), (u'bed mattress', 0.0047346351190458704), (u'northwestern', 0.0046809879172271373), (u'condition', 0.0046593297237871971), (u'sale', 0.0046395829542422405), (u'summer', 0.0045530598528273816)]\n",
        "\n"
       ]
      }
     ],
     "prompt_number": 6
    },
    {
     "cell_type": "markdown",
     "metadata": {},
     "source": [
      "It seems like when clustering with k=3, it consistently clusters into \"unsure\", \"buying\", and \"selling\". Let's try looking at just the datapoints that are clustered as \"selling\" to see how they cluster."
     ]
    },
    {
     "cell_type": "code",
     "collapsed": false,
     "input": [],
     "language": "python",
     "metadata": {},
     "outputs": [],
     "prompt_number": 6
    }
   ],
   "metadata": {}
  }
 ]
}