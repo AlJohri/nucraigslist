{
 "metadata": {
  "name": "",
  "signature": "sha256:1dfce0b6e83a324738ec0a54c3ce3de5618a96ed5c460c3121289f1e18ff56ca"
 },
 "nbformat": 3,
 "nbformat_minor": 0,
 "worksheets": [
  {
   "cells": [
    {
     "cell_type": "code",
     "collapsed": false,
     "input": [
      "import re\n",
      "from textblob import TextBlob\n",
      "import numpy as np\n",
      "listings = np.array([listing for listing in Listing.objects.all()])\n",
      "raw_text = np.array([listing.message for listing in listings])\n",
      "text = np.array([re.sub(r'^https?:\\/\\/.*[\\r\\n]*', '', message, flags=re.MULTILINE) for message in raw_text])"
     ],
     "language": "python",
     "metadata": {},
     "outputs": [],
     "prompt_number": 2
    },
    {
     "cell_type": "code",
     "collapsed": false,
     "input": [
      "text[1]"
     ],
     "language": "python",
     "metadata": {},
     "outputs": [
      {
       "metadata": {},
       "output_type": "pyout",
       "prompt_number": 4,
       "text": [
        "u\"Winter Quarter Sublet Available! (Female preferred) $745+utilities. Dempster and Elmwood. Spacious furnished bedroom in two bedroom apartment. Clean and neat. We're grad students, so it's nice.\""
       ]
      }
     ],
     "prompt_number": 4
    },
    {
     "cell_type": "code",
     "collapsed": false,
     "input": [
      "blob = TextBlob(text[1]) "
     ],
     "language": "python",
     "metadata": {},
     "outputs": [],
     "prompt_number": 5
    },
    {
     "cell_type": "code",
     "collapsed": false,
     "input": [
      "blob"
     ],
     "language": "python",
     "metadata": {},
     "outputs": [
      {
       "metadata": {},
       "output_type": "pyout",
       "prompt_number": 6,
       "text": [
        "TextBlob(\"Winter Quarter Sublet Available! (Female preferred) $745+utilities. Dempster and Elmwood. Spacious furnished bedroom in two bedroom apartment. Clean and neat. We're grad students, so it's nice.\")"
       ]
      }
     ],
     "prompt_number": 6
    },
    {
     "cell_type": "code",
     "collapsed": false,
     "input": [
      "blob.tags "
     ],
     "language": "python",
     "metadata": {},
     "outputs": [
      {
       "metadata": {},
       "output_type": "pyout",
       "prompt_number": 7,
       "text": [
        "[(u'Winter', u'NNP'),\n",
        " (u'Quarter', u'NN'),\n",
        " (u'Sublet', u'NNP'),\n",
        " (u'Available', u'JJ'),\n",
        " (u'Female', u'JJ'),\n",
        " (u'preferred', u'JJ'),\n",
        " (u'745+utilities', u'NNS'),\n",
        " (u'Dempster', u'NNP'),\n",
        " (u'and', u'CC'),\n",
        " (u'Elmwood', u'NNP'),\n",
        " (u'Spacious', u'JJ'),\n",
        " (u'furnished', u'VBN'),\n",
        " (u'bedroom', u'NN'),\n",
        " (u'in', u'IN'),\n",
        " (u'two', u'CD'),\n",
        " (u'bedroom', u'NN'),\n",
        " (u'apartment', u'NN'),\n",
        " (u'Clean', u'NNP'),\n",
        " (u'and', u'CC'),\n",
        " (u'neat', u'JJ'),\n",
        " (u'We', u'PRP'),\n",
        " (u\"'\", u'POS'),\n",
        " (u're', u'NN'),\n",
        " (u'grad', u'NN'),\n",
        " (u'students', u'NNS'),\n",
        " (u'so', u'RB'),\n",
        " (u'it', u'PRP'),\n",
        " (u\"'\", u'POS'),\n",
        " (u's', u'PRP'),\n",
        " (u'nice', u'JJ')]"
       ]
      }
     ],
     "prompt_number": 7
    },
    {
     "cell_type": "code",
     "collapsed": false,
     "input": [
      "nltk.data.path.append('nltk_data')"
     ],
     "language": "python",
     "metadata": {},
     "outputs": [],
     "prompt_number": 12
    },
    {
     "cell_type": "code",
     "collapsed": false,
     "input": [
      "blob.noun_phrases"
     ],
     "language": "python",
     "metadata": {},
     "outputs": [
      {
       "metadata": {},
       "output_type": "pyout",
       "prompt_number": 13,
       "text": [
        "WordList([u'winter quarter sublet', u'female', u'$ 745+utilities', u'dempster', u'elmwood', u'spacious', u'bedroom apartment', u'clean', u\"'re grad students\"])"
       ]
      }
     ],
     "prompt_number": 13
    },
    {
     "cell_type": "code",
     "collapsed": false,
     "input": [
      "blob.translate(to=\"es\") "
     ],
     "language": "python",
     "metadata": {},
     "outputs": [
      {
       "metadata": {},
       "output_type": "pyout",
       "prompt_number": 14,
       "text": [
        "TextBlob(\"Trimestre de invierno subarrendar disponible! Servicios p\u00fablicos ( preferidos femeninos ) $ 745 + . Dempster y Elmwood . Dormitorio amueblado Amplio en el apartamento de dos dormitorios . Limpio y ordenado . Somos estudiantes de posgrado , as\u00ed que es agradable.\")"
       ]
      }
     ],
     "prompt_number": 14
    },
    {
     "cell_type": "code",
     "collapsed": false,
     "input": [],
     "language": "python",
     "metadata": {},
     "outputs": []
    }
   ],
   "metadata": {}
  }
 ]
}