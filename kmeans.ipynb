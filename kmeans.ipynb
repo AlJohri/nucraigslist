{
 "metadata": {
  "name": "",
  "signature": "sha256:c401cba34fa7286ecddfa16aa0fea0c9e98011ae13a45da9011d440da9b8e886"
 },
 "nbformat": 3,
 "nbformat_minor": 0,
 "worksheets": [
  {
   "cells": [
    {
     "cell_type": "code",
     "collapsed": false,
     "input": [
      "%matplotlib inline\n",
      "\n",
      "from __future__ import division \n",
      "\n",
      "import re\n",
      "import numpy as np\n",
      "import matplotlib.pyplot as plt\n",
      "\n",
      "from scipy.cluster.vq import kmeans,vq\n",
      "from scipy.spatial.distance import cdist\n",
      "\n",
      "from sklearn.cluster import KMeans \n",
      "from sklearn.cluster import DBSCAN\n",
      "from sklearn.feature_extraction.text import TfidfVectorizer \n",
      "from sklearn.decomposition import TruncatedSVD\n",
      "from sklearn.pipeline import make_pipeline\n",
      "from sklearn.preprocessing import Normalizer\n",
      "from sklearn import metrics \n",
      "\n",
      "from nltk.stem.wordnet import WordNetLemmatizer\n",
      "from nltk.tokenize import word_tokenize \n",
      "lmtzr = WordNetLemmatizer()\n",
      "\n",
      "import mpld3\n",
      "from mpld3 import plugins \n",
      "\n",
      "from pprint import pprint as pp\n",
      "from dateutil.parser import parse \n",
      "import random \n",
      "\n",
      "def elbow_method(X):\n",
      "    K = range(1,10)\n",
      "    KM = [kmeans(X,k) for k in K] # apply kmeans 1 to 10\n",
      "    centroids = [cent for (cent,var) in KM] \n",
      "    D_k = [cdist(X, cent, 'euclidean') for cent in centroids]\n",
      "\n",
      "    cIdx = [np.argmin(D,axis=1) for D in D_k]\n",
      "    dist = [np.min(D,axis=1) for D in D_k]\n",
      "    avgWithinSS = [sum(d)/X.shape[0] for d in dist]  \n",
      "    kIdx = 2\n",
      "    # plot elbow curve\n",
      "    fig = plt.figure()\n",
      "    ax = fig.add_subplot(111)\n",
      "    ax.plot(K, avgWithinSS, 'b*-')\n",
      "    ax.plot(K[kIdx], avgWithinSS[kIdx], marker='o', markersize=12, \n",
      "          markeredgewidth=2, markeredgecolor='r', markerfacecolor='None')\n",
      "    plt.grid(True)\n",
      "    plt.xlabel('Number of clusters')\n",
      "    plt.ylabel('Average within-cluster sum of squares')\n",
      "    tt = plt.title('Elbow for K-Means clustering')  \n"
     ],
     "language": "python",
     "metadata": {},
     "outputs": [],
     "prompt_number": 1
    },
    {
     "cell_type": "code",
     "collapsed": false,
     "input": [
      "listings = np.array([listing for listing in Listing.objects.all()])\n",
      "raw_text = np.array([listing.message for listing in listings])\n",
      "text = np.array([re.sub(r'^https?:\\/\\/.*[\\r\\n]*', '', message, flags=re.MULTILINE) for message in raw_text])"
     ],
     "language": "python",
     "metadata": {},
     "outputs": [],
     "prompt_number": 2
    },
    {
     "cell_type": "code",
     "collapsed": false,
     "input": [
      "original_preprocessor = TfidfVectorizer().build_preprocessor()\n",
      "preprocessor = lambda x: lmtzr.lemmatize(original_preprocessor(x))\n",
      "vectorizer = TfidfVectorizer(min_df=0.01, ngram_range=(1,2), stop_words='english', preprocessor=preprocessor)\n",
      "X = vectorizer.fit_transform(text).toarray()"
     ],
     "language": "python",
     "metadata": {},
     "outputs": [],
     "prompt_number": 3
    },
    {
     "cell_type": "code",
     "collapsed": false,
     "input": [
      "elbow_method(X)"
     ],
     "language": "python",
     "metadata": {},
     "outputs": [
      {
       "metadata": {},
       "output_type": "display_data",
       "png": "[encoded data removed]",
       "text": [
        "<matplotlib.figure.Figure at 0x10aced6d0>"
       ]
      }
     ],
     "prompt_number": 4
    },
    {
     "cell_type": "code",
     "collapsed": false,
     "input": [
      "N_CLUSTERS = 3\n",
      "k_means = KMeans(n_clusters=N_CLUSTERS, init='k-means++', max_iter=100, n_init=1, verbose=True)\n",
      "# svd = TruncatedSVD(2) \n",
      "# lsa = make_pipeline(svd, Normalizer(copy=False)) \n",
      "k_means.fit(X)\n",
      "k_means_labels = k_means.labels_\n",
      "k_means_cluster_centers = k_means.cluster_centers_\n",
      "k_means_labels_unique = np.unique(k_means_labels)\n",
      "terms = vectorizer.get_feature_names()"
     ],
     "language": "python",
     "metadata": {},
     "outputs": [
      {
       "output_type": "stream",
       "stream": "stdout",
       "text": [
        "Initialization complete\n",
        "Iteration  0, inertia 10948.562\n",
        "Iteration  1, inertia 5700.159\n",
        "Iteration  2, inertia 5673.495\n",
        "Iteration  3, inertia 5654.825\n",
        "Iteration  4, inertia 5617.334\n",
        "Iteration  5, inertia 5588.009\n",
        "Iteration  6, inertia 5579.881"
       ]
      },
      {
       "output_type": "stream",
       "stream": "stdout",
       "text": [
        "\n",
        "Iteration  7, inertia 5576.749\n",
        "Iteration  8, inertia 5575.539\n",
        "Iteration  9, inertia 5575.169\n",
        "Iteration 10, inertia 5575.001\n",
        "Iteration 11, inertia 5574.949\n",
        "Iteration 12, inertia 5574.941\n",
        "Iteration 13, inertia 5574.939"
       ]
      },
      {
       "output_type": "stream",
       "stream": "stdout",
       "text": [
        "\n",
        "Iteration 14, inertia 5574.938\n",
        "Converged at iteration 14\n"
       ]
      }
     ],
     "prompt_number": 5
    },
    {
     "cell_type": "code",
     "collapsed": false,
     "input": [
      "order_centroids = k_means_cluster_centers.argsort()[:, ::-1]\n",
      "for i in range(N_CLUSTERS):\n",
      "    # print [(terms[ind], k_means_cluster_centers[i][ind]) for ind in order_centroids[i, :100]]\n",
      "    print [terms[ind] for ind in order_centroids[i, :100]]\n",
      "    print \"\"\n"
     ],
     "language": "python",
     "metadata": {},
     "outputs": [
      {
       "output_type": "stream",
       "stream": "stdout",
       "text": [
        "[u'obo', u'message', u'buying', u'10', u'interested', u'sale', u'selling', u'20', u'free', u'new', u'size', u'15', u'need', u'desk', u'table', u'bed', u'mattress', u'message interested', u'30', u'pick', u'price', u'50', u'offer', u'want', u'chair', u'lamp', u'used', u'condition', u'best', u'sell', u'40', u'25', u'black', u'ikea', u'best offer', u'box', u'twin', u'negotiable', u'available', u'tv', u'small', u'fridge', u'frame', u'just', u'like', u'great', u'brand', u'room', u'brand new', u'know', u'white', u'details', u'mini', u'bike', u'good', u'com', u'does', u'set', u'couch', u'book', u'sublet', u'edition', u'60', u'spring', u'summer', u'100', u'mini fridge', u'books', u'll', u'http', u'evanston', u'tomorrow', u'today', u'got', u'tickets', u'large', u'box spring', u'coffee', u'ticket', u'year', u'message details', u'really', u'old', u'35', u'queen', u'bed frame', u'come', u'sized', u'picked', u'chairs', u'dresser', u'let', u'plastic', u'msg', u'12', u'printer', u'don', u'buy', u'www', u'bought']\n",
        "\n",
        "[u'looking', u'looking buy', u'buy', u'message', u'bike', u'know', u'desk', u'sell', u'selling', u'dresser', u'thanks', u'bed', u'let know', u'let', u'table', u'chair', u'mattress', u'small', u'pick', u'couch', u'frame', u'textbook', u'size', u'book', u'bed frame', u'ticket', u'sublet', u'fridge', u'cheap', u'floor', u'lamp', u'fall', u'futon', u'msg', u'unit', u'chairs', u'tv', u'rid', u'sized', u'tickets', u'room', u'queen', u'desk chair', u'hey', u'microwave', u'pay', u'books', u'mini fridge', u'bookshelf', u'mini', u'dining', u'place', u'size bed', u'twin', u'pm', u'large', u'stand', u'printer', u'nice', u'good', u'like', u'ac', u'study', u'chem', u'edition', u'saturday', u'summer', u'furniture', u'interested', u'august', u'month', u'price', u'july', u'drawers', u'got', u'office', u'need', u'anybody', u'willing', u'apartment', u'available', u'coffee table', u'coffee', u'box', u'sale', u'just', u'comment', u'june', u'math', u'day', u'old', u'clicker', u'rent', u'does', u'101', u'game', u'kitchen', u'econ', u'extra', u'll']\n",
        "\n",
        "[u'selling', u'message', u'edition', u'book', u'interested', u'ticket', u'message interested', u'bike', u'books', u'math', u'textbook', u'selling bike', u'econ', u'intro', u'tickets', u'10', u'manual', u'used', u'anybody', u'psych', u'fridge', u'dresser', u'buying', u'chem', u'50', u'230', u'obo', u'201', u'30', u'15', u'20', u'clicker', u'40', u'220', u'principles', u'mini', u'new', u'math 230', u'mini fridge', u'details', u'3rd', u'microwave', u'25', u'desk', u'100', u'chemistry', u'message details', u'101', u'pm', u'condition', u'chair', u'know', u'sunday', u'saturday', u'tv', u'cheap', u'let', u'black', u'study', u'unit', u'price', u'let know', u'day', u'nu', u'game', u'size', u'white', u'futon', u'small', u'60', u'mattress', u'buy', u'table', u'35', u'printer', u'northwestern', u'comment', u'couch', u'comes', u'msg', u'bed', u'great', u'negotiable', u'twin', u'good', u'80', u'office', u'box', u'furniture', u'offer', u'thanks', u'away', u'ikea', u'need', u'set', u'want', u'ac', u'prices', u'lamp', u'like']\n",
        "\n"
       ]
      }
     ],
     "prompt_number": 6
    },
    {
     "cell_type": "markdown",
     "metadata": {},
     "source": [
      "It seems like when clustering with k=3, it consistently clusters into \"unsure\", \"buying\", and \"selling\". Let's try looking at just the datapoints that are clustered as \"selling\" to see how they cluster."
     ]
    },
    {
     "cell_type": "code",
     "collapsed": false,
     "input": [],
     "language": "python",
     "metadata": {},
     "outputs": [],
     "prompt_number": 6
    }
   ],
   "metadata": {}
  }
 ]
}